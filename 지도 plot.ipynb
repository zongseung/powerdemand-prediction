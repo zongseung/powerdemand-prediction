{
 "cells": [
  {
   "cell_type": "code",
   "execution_count": 17,
   "metadata": {},
   "outputs": [],
   "source": [
    "import numpy as np\n",
    "import matplotlib.pyplot as plt\n",
    "import pandas as pd\n",
    "import requests"
   ]
  },
  {
   "cell_type": "code",
   "execution_count": 18,
   "metadata": {},
   "outputs": [],
   "source": [
    "api = \"b83a0138ed0d17b68f0c86fe6808b74d\"\n"
   ]
  },
  {
   "cell_type": "code",
   "execution_count": 33,
   "metadata": {},
   "outputs": [],
   "source": [
    "# 데이터 불러오기\n",
    "df = pd.read_csv('/home/dlwhdtmd/zongseung/META_관측지점정보_20250122012844 복사본 2.csv', encoding='cp949')\n",
    "df = df[[\"지점명\",\"위도\",\"경도\"]]\n",
    "df.rename(columns={\"지점명\":\"title\",\"위도\":\"lat\",\"경도\":\"lng\"}, inplace=True)"
   ]
  },
  {
   "cell_type": "code",
   "execution_count": 34,
   "metadata": {},
   "outputs": [],
   "source": [
    "df.to_csv(\"real_관측정보.csv\", index=False)"
   ]
  },
  {
   "cell_type": "code",
   "execution_count": 38,
   "metadata": {},
   "outputs": [
    {
     "name": "stdout",
     "output_type": "stream",
     "text": [
      "총 140개의 포인트가 지도에 표시됩니다.\n"
     ]
    }
   ],
   "source": [
    "import csv\n",
    "import webbrowser\n",
    "import json\n",
    "\n",
    "def generate_kakao_map_from_csv(csv_file, output_file=\"map.html\", exclude_titles=None):\n",
    "    \"\"\"\n",
    "    CSV 파일에서 데이터를 읽어와 특정 위치를 제외하고 Kakao 지도 HTML 파일을 생성합니다.\n",
    "    :param csv_file: CSV 파일 경로\n",
    "    :param output_file: 생성할 HTML 파일 이름\n",
    "    :param exclude_titles: 제외할 위치 이름 리스트 (예: [\"흑산도\", \"백령도\", \"울릉도\"])\n",
    "    \"\"\"\n",
    "    kakao_api_key = \"41c870c490aebd3810bd1152b41c792e\"  # Kakao 지도 API 키\n",
    "\n",
    "    # 제외할 위치 이름 리스트\n",
    "    if exclude_titles is None:\n",
    "        exclude_titles = []\n",
    "\n",
    "    # CSV 파일에서 데이터 읽기\n",
    "    locations = []\n",
    "    with open(csv_file, \"r\", encoding=\"utf-8\") as file:\n",
    "        reader = csv.DictReader(file)\n",
    "        for row in reader:\n",
    "            if row[\"title\"] not in exclude_titles:  # 제외할 위치가 아닌 경우만 추가\n",
    "                locations.append({\n",
    "                    \"lat\": float(row[\"lat\"]),\n",
    "                    \"lng\": float(row[\"lng\"]),\n",
    "                    \"title\": row[\"title\"]\n",
    "                })\n",
    "\n",
    "    # 총 포인트 수 출력\n",
    "    print(f\"총 {len(locations)}개의 포인트가 지도에 표시됩니다.\")\n",
    "\n",
    "    # HTML 템플릿\n",
    "    html_content = f\"\"\"\n",
    "    <!DOCTYPE html>\n",
    "    <html>\n",
    "    <head>\n",
    "        <meta charset=\"utf-8\"/>\n",
    "        <title>Kakao 지도 - 특정 위치 제외</title>\n",
    "        <style>\n",
    "            #map {{\n",
    "                width: 800px;\n",
    "                height: 600px;\n",
    "            }}\n",
    "        </style>\n",
    "    </head>\n",
    "    <body>\n",
    "        <div id=\"map\"></div>\n",
    "        <script type=\"text/javascript\" src=\"//dapi.kakao.com/v2/maps/sdk.js?appkey={kakao_api_key}\"></script>\n",
    "        <script>\n",
    "            // 지도 생성\n",
    "            var container = document.getElementById('map');\n",
    "            var options = {{\n",
    "                center: new kakao.maps.LatLng({locations[0]['lat']}, {locations[0]['lng']}), // 첫 번째 좌표를 중심으로 설정\n",
    "                level: 3 // 확대 레벨\n",
    "            }};\n",
    "\n",
    "            var map = new kakao.maps.Map(container, options);\n",
    "\n",
    "            // 표시할 좌표 데이터\n",
    "            var locations = {json.dumps(locations)}; // Python 리스트를 JSON 문자열로 변환\n",
    "\n",
    "            // 각 좌표에 마커 생성\n",
    "            locations.forEach(function(location) {{\n",
    "                var markerPosition = new kakao.maps.LatLng(location.lat, location.lng);\n",
    "\n",
    "                var marker = new kakao.maps.Marker({{\n",
    "                    position: markerPosition, // 마커 위치\n",
    "                    map: map // 마커를 표시할 지도\n",
    "                }});\n",
    "\n",
    "                // 마커에 클릭 이벤트 추가\n",
    "                kakao.maps.event.addListener(marker, 'click', function() {{\n",
    "                    alert(location.title); // 마커 클릭 시 알림\n",
    "                }});\n",
    "            }});\n",
    "        </script>\n",
    "    </body>\n",
    "    </html>\n",
    "    \"\"\"\n",
    "\n",
    "    # HTML 파일 저장\n",
    "    with open(output_file, \"w\", encoding=\"utf-8\") as file:\n",
    "        file.write(html_content)\n",
    "\n",
    "    # 생성된 파일 브라우저에서 열기\n",
    "    webbrowser.open(f\"file://{output_file}\")\n",
    "\n",
    "# 실행: CSV 파일에서 읽기\n",
    "csv_file_path = \"/home/dlwhdtmd/zongseung/real_관측정보.csv\"  # CSV 파일 경로 (title,lat,lng 헤더 필요)\n",
    "excluded_locations = [\"흑산도\", \"백령도\", \"울릉도\"]  # 제외할 위치\n",
    "generate_kakao_map_from_csv(csv_file_path, exclude_titles=excluded_locations)\n"
   ]
  },
  {
   "cell_type": "code",
   "execution_count": null,
   "metadata": {},
   "outputs": [],
   "source": []
  }
 ],
 "metadata": {
  "kernelspec": {
   "display_name": "zongseung",
   "language": "python",
   "name": "python3"
  },
  "language_info": {
   "codemirror_mode": {
    "name": "ipython",
    "version": 3
   },
   "file_extension": ".py",
   "mimetype": "text/x-python",
   "name": "python",
   "nbconvert_exporter": "python",
   "pygments_lexer": "ipython3",
   "version": "3.10.12"
  }
 },
 "nbformat": 4,
 "nbformat_minor": 2
}
